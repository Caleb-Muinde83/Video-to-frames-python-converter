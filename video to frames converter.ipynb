{
  "nbformat": 4,
  "nbformat_minor": 0,
  "metadata": {
    "colab": {
      "name": "Untitled4.ipynb",
      "provenance": []
    },
    "kernelspec": {
      "name": "python3",
      "display_name": "Python 3"
    },
    "language_info": {
      "name": "python"
    }
  },
  "cells": [
    {
      "cell_type": "code",
      "source": [
        "pip install opencv-python"
      ],
      "metadata": {
        "colab": {
          "base_uri": "https://localhost:8080/"
        },
        "id": "mwtyJCMJkU07",
        "outputId": "94d28a13-be12-434b-b216-fafae685f0bc"
      },
      "execution_count": null,
      "outputs": [
        {
          "output_type": "stream",
          "name": "stdout",
          "text": [
            "Requirement already satisfied: opencv-python in /usr/local/lib/python3.7/dist-packages (4.1.2.30)\n",
            "Requirement already satisfied: numpy>=1.14.5 in /usr/local/lib/python3.7/dist-packages (from opencv-python) (1.21.6)\n"
          ]
        }
      ]
    },
    {
      "cell_type": "code",
      "execution_count": 7,
      "metadata": {
        "id": "ROyT7UhJkHKl"
      },
      "outputs": [],
      "source": [
        "import cv2\n",
        " \n",
        "# Opens the inbuilt camera of laptop to capture video.\n",
        "# video = cv2.VideoCapture(0)\n",
        "# Opens the video file\n",
        "video = cv2.VideoCapture(\"/content/My Video.mp4\")\n",
        "i = 0\n",
        " \n",
        "while(video.isOpened()):\n",
        "    ret, frame = video.read()\n", #ret is a boolean variable that returns true if the frame is available.
              \n", #frame is an image array vector captured based on the default frames per second defined explicitly or implicitly
        "     \n",
        "    # This condition prevents from infinite looping\n",
        "    # when the video ends.\n",
        "    if ret == False:\n",
        "        break\n",
        "     \n",
        "    # Save Frame by Frame into disk using imwrite method\n",
        "    cv2.imwrite('Frame'+str(i)+'.jpg', frame)\n",
        "    i += 1\n",
        " \n",
        "video.release()\n",
        "cv2.destroyAllWindows()"
      ]
    },
    {
      "cell_type": "code",
      "source": [
        "!ls /content"
      ],
      "metadata": {
        "colab": {
          "base_uri": "https://localhost:8080/"
        },
        "id": "CVFHyVu3ny9t",
        "outputId": "79d04c8a-076a-40a3-f31b-47762cb0161c"
      },
      "execution_count": null,
      "outputs": [
        {
          "output_type": "stream",
          "name": "stdout",
          "text": [
            " Frame0.jpg     Frame236.jpg   Frame372.jpg   Frame508.jpg   Frame644.jpg\n",
            " Frame100.jpg   Frame237.jpg   Frame373.jpg   Frame509.jpg   Frame645.jpg\n",
            " Frame101.jpg   Frame238.jpg   Frame374.jpg   Frame50.jpg    Frame646.jpg\n",
            " Frame102.jpg   Frame239.jpg   Frame375.jpg   Frame510.jpg   Frame647.jpg\n",
            " Frame103.jpg   Frame23.jpg    Frame376.jpg   Frame511.jpg   Frame648.jpg\n",
            " Frame104.jpg   Frame240.jpg   Frame377.jpg   Frame512.jpg   Frame649.jpg\n",
            " Frame105.jpg   Frame241.jpg   Frame378.jpg   Frame513.jpg   Frame64.jpg\n",
            " Frame106.jpg   Frame242.jpg   Frame379.jpg   Frame514.jpg   Frame650.jpg\n",
            " Frame107.jpg   Frame243.jpg   Frame37.jpg    Frame515.jpg   Frame651.jpg\n",
            " Frame108.jpg   Frame244.jpg   Frame380.jpg   Frame516.jpg   Frame652.jpg\n",
            " Frame109.jpg   Frame245.jpg   Frame381.jpg   Frame517.jpg   Frame653.jpg\n",
            " Frame10.jpg    Frame246.jpg   Frame382.jpg   Frame518.jpg   Frame654.jpg\n",
            " Frame110.jpg   Frame247.jpg   Frame383.jpg   Frame519.jpg   Frame655.jpg\n",
            " Frame111.jpg   Frame248.jpg   Frame384.jpg   Frame51.jpg    Frame656.jpg\n",
            " Frame112.jpg   Frame249.jpg   Frame385.jpg   Frame520.jpg   Frame657.jpg\n",
            " Frame113.jpg   Frame24.jpg    Frame386.jpg   Frame521.jpg   Frame658.jpg\n",
            " Frame114.jpg   Frame250.jpg   Frame387.jpg   Frame522.jpg   Frame659.jpg\n",
            " Frame115.jpg   Frame251.jpg   Frame388.jpg   Frame523.jpg   Frame65.jpg\n",
            " Frame116.jpg   Frame252.jpg   Frame389.jpg   Frame524.jpg   Frame660.jpg\n",
            " Frame117.jpg   Frame253.jpg   Frame38.jpg    Frame525.jpg   Frame661.jpg\n",
            " Frame118.jpg   Frame254.jpg   Frame390.jpg   Frame526.jpg   Frame662.jpg\n",
            " Frame119.jpg   Frame255.jpg   Frame391.jpg   Frame527.jpg   Frame663.jpg\n",
            " Frame11.jpg    Frame256.jpg   Frame392.jpg   Frame528.jpg   Frame664.jpg\n",
            " Frame120.jpg   Frame257.jpg   Frame393.jpg   Frame529.jpg   Frame665.jpg\n",
            " Frame121.jpg   Frame258.jpg   Frame394.jpg   Frame52.jpg    Frame666.jpg\n",
            " Frame122.jpg   Frame259.jpg   Frame395.jpg   Frame530.jpg   Frame667.jpg\n",
            " Frame123.jpg   Frame25.jpg    Frame396.jpg   Frame531.jpg   Frame668.jpg\n",
            " Frame124.jpg   Frame260.jpg   Frame397.jpg   Frame532.jpg   Frame669.jpg\n",
            " Frame125.jpg   Frame261.jpg   Frame398.jpg   Frame533.jpg   Frame66.jpg\n",
            " Frame126.jpg   Frame262.jpg   Frame399.jpg   Frame534.jpg   Frame670.jpg\n",
            " Frame127.jpg   Frame263.jpg   Frame39.jpg    Frame535.jpg   Frame671.jpg\n",
            " Frame128.jpg   Frame264.jpg   Frame3.jpg     Frame536.jpg   Frame672.jpg\n",
            " Frame129.jpg   Frame265.jpg   Frame400.jpg   Frame537.jpg   Frame673.jpg\n",
            " Frame12.jpg    Frame266.jpg   Frame401.jpg   Frame538.jpg   Frame674.jpg\n",
            " Frame130.jpg   Frame267.jpg   Frame402.jpg   Frame539.jpg   Frame675.jpg\n",
            " Frame131.jpg   Frame268.jpg   Frame403.jpg   Frame53.jpg    Frame676.jpg\n",
            " Frame132.jpg   Frame269.jpg   Frame404.jpg   Frame540.jpg   Frame677.jpg\n",
            " Frame133.jpg   Frame26.jpg    Frame405.jpg   Frame541.jpg   Frame678.jpg\n",
            " Frame134.jpg   Frame270.jpg   Frame406.jpg   Frame542.jpg   Frame679.jpg\n",
            " Frame135.jpg   Frame271.jpg   Frame407.jpg   Frame543.jpg   Frame67.jpg\n",
            " Frame136.jpg   Frame272.jpg   Frame408.jpg   Frame544.jpg   Frame680.jpg\n",
            " Frame137.jpg   Frame273.jpg   Frame409.jpg   Frame545.jpg   Frame681.jpg\n",
            " Frame138.jpg   Frame274.jpg   Frame40.jpg    Frame546.jpg   Frame682.jpg\n",
            " Frame139.jpg   Frame275.jpg   Frame410.jpg   Frame547.jpg   Frame683.jpg\n",
            " Frame13.jpg    Frame276.jpg   Frame411.jpg   Frame548.jpg   Frame684.jpg\n",
            " Frame140.jpg   Frame277.jpg   Frame412.jpg   Frame549.jpg   Frame685.jpg\n",
            " Frame141.jpg   Frame278.jpg   Frame413.jpg   Frame54.jpg    Frame686.jpg\n",
            " Frame142.jpg   Frame279.jpg   Frame414.jpg   Frame550.jpg   Frame687.jpg\n",
            " Frame143.jpg   Frame27.jpg    Frame415.jpg   Frame551.jpg   Frame688.jpg\n",
            " Frame144.jpg   Frame280.jpg   Frame416.jpg   Frame552.jpg   Frame689.jpg\n",
            " Frame145.jpg   Frame281.jpg   Frame417.jpg   Frame553.jpg   Frame68.jpg\n",
            " Frame146.jpg   Frame282.jpg   Frame418.jpg   Frame554.jpg   Frame690.jpg\n",
            " Frame147.jpg   Frame283.jpg   Frame419.jpg   Frame555.jpg   Frame691.jpg\n",
            " Frame148.jpg   Frame284.jpg   Frame41.jpg    Frame556.jpg   Frame692.jpg\n",
            " Frame149.jpg   Frame285.jpg   Frame420.jpg   Frame557.jpg   Frame693.jpg\n",
            " Frame14.jpg    Frame286.jpg   Frame421.jpg   Frame558.jpg   Frame694.jpg\n",
            " Frame150.jpg   Frame287.jpg   Frame422.jpg   Frame559.jpg   Frame695.jpg\n",
            " Frame151.jpg   Frame288.jpg   Frame423.jpg   Frame55.jpg    Frame696.jpg\n",
            " Frame152.jpg   Frame289.jpg   Frame424.jpg   Frame560.jpg   Frame697.jpg\n",
            " Frame153.jpg   Frame28.jpg    Frame425.jpg   Frame561.jpg   Frame698.jpg\n",
            " Frame154.jpg   Frame290.jpg   Frame426.jpg   Frame562.jpg   Frame699.jpg\n",
            " Frame155.jpg   Frame291.jpg   Frame427.jpg   Frame563.jpg   Frame69.jpg\n",
            " Frame156.jpg   Frame292.jpg   Frame428.jpg   Frame564.jpg   Frame6.jpg\n",
            " Frame157.jpg   Frame293.jpg   Frame429.jpg   Frame565.jpg   Frame700.jpg\n",
            " Frame158.jpg   Frame294.jpg   Frame42.jpg    Frame566.jpg   Frame701.jpg\n",
            " Frame159.jpg   Frame295.jpg   Frame430.jpg   Frame567.jpg   Frame702.jpg\n",
            " Frame15.jpg    Frame296.jpg   Frame431.jpg   Frame568.jpg   Frame703.jpg\n",
            " Frame160.jpg   Frame297.jpg   Frame432.jpg   Frame569.jpg   Frame704.jpg\n",
            " Frame161.jpg   Frame298.jpg   Frame433.jpg   Frame56.jpg    Frame705.jpg\n",
            " Frame162.jpg   Frame299.jpg   Frame434.jpg   Frame570.jpg   Frame706.jpg\n",
            " Frame163.jpg   Frame29.jpg    Frame435.jpg   Frame571.jpg   Frame707.jpg\n",
            " Frame164.jpg   Frame2.jpg     Frame436.jpg   Frame572.jpg   Frame708.jpg\n",
            " Frame165.jpg   Frame300.jpg   Frame437.jpg   Frame573.jpg   Frame709.jpg\n",
            " Frame166.jpg   Frame301.jpg   Frame438.jpg   Frame574.jpg   Frame70.jpg\n",
            " Frame167.jpg   Frame302.jpg   Frame439.jpg   Frame575.jpg   Frame710.jpg\n",
            " Frame168.jpg   Frame303.jpg   Frame43.jpg    Frame576.jpg   Frame711.jpg\n",
            " Frame169.jpg   Frame304.jpg   Frame440.jpg   Frame577.jpg   Frame712.jpg\n",
            " Frame16.jpg    Frame305.jpg   Frame441.jpg   Frame578.jpg   Frame713.jpg\n",
            " Frame170.jpg   Frame306.jpg   Frame442.jpg   Frame579.jpg   Frame714.jpg\n",
            " Frame171.jpg   Frame307.jpg   Frame443.jpg   Frame57.jpg    Frame715.jpg\n",
            " Frame172.jpg   Frame308.jpg   Frame444.jpg   Frame580.jpg   Frame716.jpg\n",
            " Frame173.jpg   Frame309.jpg   Frame445.jpg   Frame581.jpg   Frame717.jpg\n",
            " Frame174.jpg   Frame30.jpg    Frame446.jpg   Frame582.jpg   Frame718.jpg\n",
            " Frame175.jpg   Frame310.jpg   Frame447.jpg   Frame583.jpg   Frame719.jpg\n",
            " Frame176.jpg   Frame311.jpg   Frame448.jpg   Frame584.jpg   Frame71.jpg\n",
            " Frame177.jpg   Frame312.jpg   Frame449.jpg   Frame585.jpg   Frame720.jpg\n",
            " Frame178.jpg   Frame313.jpg   Frame44.jpg    Frame586.jpg   Frame721.jpg\n",
            " Frame179.jpg   Frame314.jpg   Frame450.jpg   Frame587.jpg   Frame722.jpg\n",
            " Frame17.jpg    Frame315.jpg   Frame451.jpg   Frame588.jpg   Frame723.jpg\n",
            " Frame180.jpg   Frame316.jpg   Frame452.jpg   Frame589.jpg   Frame724.jpg\n",
            " Frame181.jpg   Frame317.jpg   Frame453.jpg   Frame58.jpg    Frame725.jpg\n",
            " Frame182.jpg   Frame318.jpg   Frame454.jpg   Frame590.jpg   Frame726.jpg\n",
            " Frame183.jpg   Frame319.jpg   Frame455.jpg   Frame591.jpg   Frame727.jpg\n",
            " Frame184.jpg   Frame31.jpg    Frame456.jpg   Frame592.jpg   Frame728.jpg\n",
            " Frame185.jpg   Frame320.jpg   Frame457.jpg   Frame593.jpg   Frame729.jpg\n",
            " Frame186.jpg   Frame321.jpg   Frame458.jpg   Frame594.jpg   Frame72.jpg\n",
            " Frame187.jpg   Frame322.jpg   Frame459.jpg   Frame595.jpg   Frame730.jpg\n",
            " Frame188.jpg   Frame323.jpg   Frame45.jpg    Frame596.jpg   Frame731.jpg\n",
            " Frame189.jpg   Frame324.jpg   Frame460.jpg   Frame597.jpg   Frame732.jpg\n",
            " Frame18.jpg    Frame325.jpg   Frame461.jpg   Frame598.jpg   Frame733.jpg\n",
            " Frame190.jpg   Frame326.jpg   Frame462.jpg   Frame599.jpg   Frame734.jpg\n",
            " Frame191.jpg   Frame327.jpg   Frame463.jpg   Frame59.jpg    Frame735.jpg\n",
            " Frame192.jpg   Frame328.jpg   Frame464.jpg   Frame5.jpg     Frame736.jpg\n",
            " Frame193.jpg   Frame329.jpg   Frame465.jpg   Frame600.jpg   Frame737.jpg\n",
            " Frame194.jpg   Frame32.jpg    Frame466.jpg   Frame601.jpg   Frame738.jpg\n",
            " Frame195.jpg   Frame330.jpg   Frame467.jpg   Frame602.jpg   Frame739.jpg\n",
            " Frame196.jpg   Frame331.jpg   Frame468.jpg   Frame603.jpg   Frame73.jpg\n",
            " Frame197.jpg   Frame332.jpg   Frame469.jpg   Frame604.jpg   Frame740.jpg\n",
            " Frame198.jpg   Frame333.jpg   Frame46.jpg    Frame605.jpg   Frame741.jpg\n",
            " Frame199.jpg   Frame334.jpg   Frame470.jpg   Frame606.jpg   Frame742.jpg\n",
            " Frame19.jpg    Frame335.jpg   Frame471.jpg   Frame607.jpg   Frame743.jpg\n",
            " Frame1.jpg     Frame336.jpg   Frame472.jpg   Frame608.jpg   Frame744.jpg\n",
            " Frame200.jpg   Frame337.jpg   Frame473.jpg   Frame609.jpg   Frame745.jpg\n",
            " Frame201.jpg   Frame338.jpg   Frame474.jpg   Frame60.jpg    Frame746.jpg\n",
            " Frame202.jpg   Frame339.jpg   Frame475.jpg   Frame610.jpg   Frame747.jpg\n",
            " Frame203.jpg   Frame33.jpg    Frame476.jpg   Frame611.jpg   Frame748.jpg\n",
            " Frame204.jpg   Frame340.jpg   Frame477.jpg   Frame612.jpg   Frame749.jpg\n",
            " Frame205.jpg   Frame341.jpg   Frame478.jpg   Frame613.jpg   Frame74.jpg\n",
            " Frame206.jpg   Frame342.jpg   Frame479.jpg   Frame614.jpg   Frame750.jpg\n",
            " Frame207.jpg   Frame343.jpg   Frame47.jpg    Frame615.jpg   Frame75.jpg\n",
            " Frame208.jpg   Frame344.jpg   Frame480.jpg   Frame616.jpg   Frame76.jpg\n",
            " Frame209.jpg   Frame345.jpg   Frame481.jpg   Frame617.jpg   Frame77.jpg\n",
            " Frame20.jpg    Frame346.jpg   Frame482.jpg   Frame618.jpg   Frame78.jpg\n",
            " Frame210.jpg   Frame347.jpg   Frame483.jpg   Frame619.jpg   Frame79.jpg\n",
            " Frame211.jpg   Frame348.jpg   Frame484.jpg   Frame61.jpg    Frame7.jpg\n",
            " Frame212.jpg   Frame349.jpg   Frame485.jpg   Frame620.jpg   Frame80.jpg\n",
            " Frame213.jpg   Frame34.jpg    Frame486.jpg   Frame621.jpg   Frame81.jpg\n",
            " Frame214.jpg   Frame350.jpg   Frame487.jpg   Frame622.jpg   Frame82.jpg\n",
            " Frame215.jpg   Frame351.jpg   Frame488.jpg   Frame623.jpg   Frame83.jpg\n",
            " Frame216.jpg   Frame352.jpg   Frame489.jpg   Frame624.jpg   Frame84.jpg\n",
            " Frame217.jpg   Frame353.jpg   Frame48.jpg    Frame625.jpg   Frame85.jpg\n",
            " Frame218.jpg   Frame354.jpg   Frame490.jpg   Frame626.jpg   Frame86.jpg\n",
            " Frame219.jpg   Frame355.jpg   Frame491.jpg   Frame627.jpg   Frame87.jpg\n",
            " Frame21.jpg    Frame356.jpg   Frame492.jpg   Frame628.jpg   Frame88.jpg\n",
            " Frame220.jpg   Frame357.jpg   Frame493.jpg   Frame629.jpg   Frame89.jpg\n",
            " Frame221.jpg   Frame358.jpg   Frame494.jpg   Frame62.jpg    Frame8.jpg\n",
            " Frame222.jpg   Frame359.jpg   Frame495.jpg   Frame630.jpg   Frame90.jpg\n",
            " Frame223.jpg   Frame35.jpg    Frame496.jpg   Frame631.jpg   Frame91.jpg\n",
            " Frame224.jpg   Frame360.jpg   Frame497.jpg   Frame632.jpg   Frame92.jpg\n",
            " Frame225.jpg   Frame361.jpg   Frame498.jpg   Frame633.jpg   Frame93.jpg\n",
            " Frame226.jpg   Frame362.jpg   Frame499.jpg   Frame634.jpg   Frame94.jpg\n",
            " Frame227.jpg   Frame363.jpg   Frame49.jpg    Frame635.jpg   Frame95.jpg\n",
            " Frame228.jpg   Frame364.jpg   Frame4.jpg     Frame636.jpg   Frame96.jpg\n",
            " Frame229.jpg   Frame365.jpg   Frame500.jpg   Frame637.jpg   Frame97.jpg\n",
            " Frame22.jpg    Frame366.jpg   Frame501.jpg   Frame638.jpg   Frame98.jpg\n",
            " Frame230.jpg   Frame367.jpg   Frame502.jpg   Frame639.jpg   Frame99.jpg\n",
            " Frame231.jpg   Frame368.jpg   Frame503.jpg   Frame63.jpg    Frame9.jpg\n",
            " Frame232.jpg   Frame369.jpg   Frame504.jpg   Frame640.jpg  'My Video.mp4'\n",
            " Frame233.jpg   Frame36.jpg    Frame505.jpg   Frame641.jpg   sample_data\n",
            " Frame234.jpg   Frame370.jpg   Frame506.jpg   Frame642.jpg\n",
            " Frame235.jpg   Frame371.jpg   Frame507.jpg   Frame643.jpg\n"
          ]
        }
      ]
    }
  ]
}
